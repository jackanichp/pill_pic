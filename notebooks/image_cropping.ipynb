{
 "cells": [
  {
   "cell_type": "code",
   "execution_count": null,
   "metadata": {},
   "outputs": [],
   "source": [
    "# basic imports\n",
    "import pandas as pd\n",
    "import numpy as np\n",
    "import matplotlib.pyplot as plt\n",
    "import os\n",
    "\n",
    "# image manipulation\n",
    "from PIL import Image"
   ]
  },
  {
   "cell_type": "code",
   "execution_count": null,
   "metadata": {},
   "outputs": [],
   "source": [
    "from roboflow import Roboflow\n",
    "rf = Roboflow(api_key=\"PA7iGNwB8gUmOWCyfNt3\")\n",
    "project = rf.workspace().project(\"pill-pick\")\n",
    "model = project.version(2).model"
   ]
  },
  {
   "cell_type": "code",
   "execution_count": null,
   "metadata": {},
   "outputs": [],
   "source": [
    "image_dir = os.path.join(os.path.expanduser('~'), 'Downloads', 'images')\n",
    "image_cropped_dir = os.path.join(os.path.expanduser('~'), 'Downloads', 'images_cropped')\n",
    "counter = 0\n",
    "\n",
    "for image_name in os.listdir(image_dir):\n",
    "    \n",
    "    if image_name.endswith('.jpg') or image_name.endswith('.png'):\n",
    "        image_path = os.path.join(image_dir, image_name)\n",
    "        result = model.predict(image_path, confidence=40, overlap=30).json()\n",
    "        image = np.array(Image.open(image_path))\n",
    "    \n",
    "        # Extracting best pill per image:\n",
    "        if len(result['predictions']) > 0:\n",
    "            x = int(result['predictions'][0]['x'])\n",
    "            y = int(result['predictions'][0]['y'])\n",
    "            x_size = int(result['predictions'][0]['width'])\n",
    "            y_size = int(result['predictions'][0]['height'])\n",
    "            \n",
    "            image_cropped = image[y-y_size//2:y+y_size//2,x-x_size//2:x+x_size//2,:]\n",
    "            image_cropped=Image.fromarray(image_cropped)\n",
    "            image_cropped.save(os.path.join(image_cropped_dir, image_name))\n",
    "            print(f\"✅ {image_name} cropped and saved to {image_cropped_dir}.\")\n",
    "            \n",
    "        else:\n",
    "            image=Image.fromarray(image)\n",
    "            image.save(os.path.join(image_cropped_dir, image_name))\n",
    "            print(f\"❌ {image_name} not cropped but saved to {image_cropped_dir}.\")\n",
    "        counter += 1\n",
    "        \n",
    "\n",
    "print(f\"\\n✅ All images cropped and saved! Total: {counter}\")"
   ]
  }
 ],
 "metadata": {
  "kernelspec": {
   "display_name": "pill_pic",
   "language": "python",
   "name": "python3"
  },
  "language_info": {
   "codemirror_mode": {
    "name": "ipython",
    "version": 3
   },
   "file_extension": ".py",
   "mimetype": "text/x-python",
   "name": "python",
   "nbconvert_exporter": "python",
   "pygments_lexer": "ipython3",
   "version": "3.10.6"
  },
  "orig_nbformat": 4
 },
 "nbformat": 4,
 "nbformat_minor": 2
}
