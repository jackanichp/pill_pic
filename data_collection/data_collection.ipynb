{
 "cells": [
  {
   "cell_type": "code",
   "execution_count": 1,
   "metadata": {},
   "outputs": [],
   "source": [
    "#Basic Imports\n",
    "import pandas as pd\n",
    "import os\n",
    "\n",
    "#URL Image Download\n",
    "import requests\n",
    "\n",
    "#Google Cloud\n",
    "from google.cloud import storage"
   ]
  },
  {
   "cell_type": "code",
   "execution_count": null,
   "metadata": {},
   "outputs": [],
   "source": [
    "# Save the excel file as a DataFrame to 'data'\n",
    "file_path = 'directory_consumer_grade_images.xlsx'\n",
    "data = pd.read_excel(file_path)\n",
    "data.tail()"
   ]
  },
  {
   "cell_type": "code",
   "execution_count": null,
   "metadata": {},
   "outputs": [],
   "source": [
    "#Checking the number of images per unique NDC11 ID which is the identifier for each pill.\n",
    "data['NDC11'].value_counts()"
   ]
  },
  {
   "cell_type": "code",
   "execution_count": null,
   "metadata": {},
   "outputs": [],
   "source": [
    "# Only taking the top five pills with the most images.\n",
    "#data = data[(data['NDC11'] == 49884041301)] # Only 10 images for testing!\n",
    "\n",
    "data = data[(data['NDC11'] == 555901258) | (data['NDC11'] == 555903270) | (data['NDC11'] == 63459070160) | (data['NDC11'] == 52544029128) | (data['NDC11'] == 39022310)]\n",
    "print(f'The total number of images is: {len(data)}')"
   ]
  },
  {
   "cell_type": "code",
   "execution_count": null,
   "metadata": {},
   "outputs": [],
   "source": [
    "# Setting up all the urls from which to download the images as a pandas Series.\n",
    "pre_url = 'https://data.lhncbc.nlm.nih.gov/public/Pills/'\n",
    "post_url = data['Image'] \n",
    "full_url = pre_url + post_url"
   ]
  },
  {
   "cell_type": "code",
   "execution_count": null,
   "metadata": {},
   "outputs": [],
   "source": [
    "LOCAL_DATA_PATH = os.path.join(os.path.expanduser('~'), \"Downloads\", \"images\")\n",
    "key_file_path = os.path.join(os.path.expanduser('~'), \".pill-pic\", \"pill-pic-a4bcd429b85c.json\") # Add the gcloud service acc JSON key to a .pill-pic folder.\n",
    "BUCKET_NAME = \"pill_pic_image_set\"\n",
    "counter = 1\n",
    "\n",
    "client = storage.Client.from_service_account_json(key_file_path)\n",
    "bucket = client.get_bucket(BUCKET_NAME)\n",
    "\n",
    "for index, url in full_url.items():\n",
    "    \n",
    "    file_extension = (os.path.splitext(url)[1]).lower()  # Gets the file extension from the url\n",
    "    image_path = os.path.join(LOCAL_DATA_PATH, f\"{index}{file_extension}\") # Complete file path including image\n",
    "    \n",
    "    # Downloads the image from url and saves it locally.\n",
    "    response = requests.get(url)\n",
    "    with open(image_path, 'wb') as file:\n",
    "        file.write(response.content)\n",
    "    print(f\"{index}{file_extension} saved to {LOCAL_DATA_PATH}.\")\n",
    "    \n",
    "    # Uploads the image to Google Cloud.\n",
    "    blob = bucket.blob(f\"{index}{file_extension}\")\n",
    "    blob.upload_from_filename(image_path)\n",
    "    print(f\"{index}{file_extension} uploaded to {BUCKET_NAME} on Google Cloud. \\n ✅ {counter}/{len(data)}\")\n",
    "    counter += 1\n"
   ]
  }
 ],
 "metadata": {
  "kernelspec": {
   "display_name": "pill_pic",
   "language": "python",
   "name": "python3"
  },
  "language_info": {
   "codemirror_mode": {
    "name": "ipython",
    "version": 3
   },
   "file_extension": ".py",
   "mimetype": "text/x-python",
   "name": "python",
   "nbconvert_exporter": "python",
   "pygments_lexer": "ipython3",
   "version": "3.10.6"
  },
  "orig_nbformat": 4
 },
 "nbformat": 4,
 "nbformat_minor": 2
}
