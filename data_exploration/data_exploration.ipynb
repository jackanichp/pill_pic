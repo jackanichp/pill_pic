{
 "cells": [
  {
   "cell_type": "code",
   "execution_count": 1,
   "metadata": {},
   "outputs": [],
   "source": [
    "# basic imports\n",
    "import pandas as pd\n",
    "import numpy as np\n",
    "import matplotlib.pyplot as plt\n",
    "import os\n",
    "\n",
    "# image mainpulation\n",
    "from PIL import Image"
   ]
  },
  {
   "cell_type": "code",
   "execution_count": 13,
   "metadata": {},
   "outputs": [
    {
     "name": "stdout",
     "output_type": "stream",
     "text": [
      "❌ The following image file is broken: 57446.jpg\n",
      "❌ The following image file is broken: 58039.jpg\n",
      "❌ The following image file is broken: 57442.jpg\n",
      "❌ The following image file is broken: 100253.jpg\n",
      "❌ The following image file is broken: 57431.jpg\n",
      "❌ The following image file is broken: 118341.jpg\n",
      "❌ The following image file is broken: 4042.jpg\n",
      "❌ The following image file is broken: 58046.jpg\n",
      "❌ The following image file is broken: 100258.jpg\n",
      "❌ The following image file is broken: 100249.jpg\n",
      "❌ The following image file is broken: 58042.jpg\n",
      "❌ The following image file is broken: 100262.jpg\n",
      "❌ The following image file is broken: 118316.jpg\n",
      "❌ The following image file is broken: 57448.jpg\n",
      "❌ The following image file is broken: 4019.jpg\n",
      "❌ The following image file is broken: 58037.jpg\n"
     ]
    }
   ],
   "source": [
    "image_path = os.path.join(os.path.expanduser('~'),'Downloads','images') #/Users/ninaadkalla/Downloads/images\n",
    "images = []\n",
    "\n",
    "for filename in os.listdir(image_path):\n",
    "    try:\n",
    "        if filename.endswith(\".jpg\"):\n",
    "            img = Image.open(os.path.join(image_path, filename))\n",
    "            images.append(img)\n",
    "    except Exception:\n",
    "        print(f\"❌ The following image file is broken: {filename}\")"
   ]
  },
  {
   "cell_type": "code",
   "execution_count": 14,
   "metadata": {},
   "outputs": [
    {
     "name": "stderr",
     "output_type": "stream",
     "text": [
      "tempfile.tif: Old-style JPEG compression support is not configured.\n",
      "tempfile.tif: Old-style JPEG compression support is not configured.\n"
     ]
    },
    {
     "ename": "OSError",
     "evalue": "-2",
     "output_type": "error",
     "traceback": [
      "\u001b[0;31m---------------------------------------------------------------------------\u001b[0m",
      "\u001b[0;31mOSError\u001b[0m                                   Traceback (most recent call last)",
      "Cell \u001b[0;32mIn[14], line 5\u001b[0m\n\u001b[1;32m      3\u001b[0m resized_images \u001b[39m=\u001b[39m []\n\u001b[1;32m      4\u001b[0m \u001b[39mfor\u001b[39;00m img \u001b[39min\u001b[39;00m images:\n\u001b[0;32m----> 5\u001b[0m     resized_img \u001b[39m=\u001b[39m img\u001b[39m.\u001b[39;49mresize(image_dimensions)\n\u001b[1;32m      6\u001b[0m     resized_images\u001b[39m.\u001b[39mappend(resized_img)\n",
      "File \u001b[0;32m~/.pyenv/versions/3.10.6/envs/pill_pic/lib/python3.10/site-packages/PIL/Image.py:2157\u001b[0m, in \u001b[0;36mImage.resize\u001b[0;34m(self, size, resample, box, reducing_gap)\u001b[0m\n\u001b[1;32m   2153\u001b[0m     \u001b[39mraise\u001b[39;00m \u001b[39mValueError\u001b[39;00m(msg)\n\u001b[1;32m   2155\u001b[0m size \u001b[39m=\u001b[39m \u001b[39mtuple\u001b[39m(size)\n\u001b[0;32m-> 2157\u001b[0m \u001b[39mself\u001b[39;49m\u001b[39m.\u001b[39;49mload()\n\u001b[1;32m   2158\u001b[0m \u001b[39mif\u001b[39;00m box \u001b[39mis\u001b[39;00m \u001b[39mNone\u001b[39;00m:\n\u001b[1;32m   2159\u001b[0m     box \u001b[39m=\u001b[39m (\u001b[39m0\u001b[39m, \u001b[39m0\u001b[39m) \u001b[39m+\u001b[39m \u001b[39mself\u001b[39m\u001b[39m.\u001b[39msize\n",
      "File \u001b[0;32m~/.pyenv/versions/3.10.6/envs/pill_pic/lib/python3.10/site-packages/PIL/TiffImagePlugin.py:1200\u001b[0m, in \u001b[0;36mTiffImageFile.load\u001b[0;34m(self)\u001b[0m\n\u001b[1;32m   1198\u001b[0m \u001b[39mdef\u001b[39;00m \u001b[39mload\u001b[39m(\u001b[39mself\u001b[39m):\n\u001b[1;32m   1199\u001b[0m     \u001b[39mif\u001b[39;00m \u001b[39mself\u001b[39m\u001b[39m.\u001b[39mtile \u001b[39mand\u001b[39;00m \u001b[39mself\u001b[39m\u001b[39m.\u001b[39muse_load_libtiff:\n\u001b[0;32m-> 1200\u001b[0m         \u001b[39mreturn\u001b[39;00m \u001b[39mself\u001b[39;49m\u001b[39m.\u001b[39;49m_load_libtiff()\n\u001b[1;32m   1201\u001b[0m     \u001b[39mreturn\u001b[39;00m \u001b[39msuper\u001b[39m()\u001b[39m.\u001b[39mload()\n",
      "File \u001b[0;32m~/.pyenv/versions/3.10.6/envs/pill_pic/lib/python3.10/site-packages/PIL/TiffImagePlugin.py:1323\u001b[0m, in \u001b[0;36mTiffImageFile._load_libtiff\u001b[0;34m(self)\u001b[0m\n\u001b[1;32m   1320\u001b[0m     \u001b[39mself\u001b[39m\u001b[39m.\u001b[39mfp \u001b[39m=\u001b[39m \u001b[39mNone\u001b[39;00m  \u001b[39m# might be shared\u001b[39;00m\n\u001b[1;32m   1322\u001b[0m \u001b[39mif\u001b[39;00m err \u001b[39m<\u001b[39m \u001b[39m0\u001b[39m:\n\u001b[0;32m-> 1323\u001b[0m     \u001b[39mraise\u001b[39;00m \u001b[39mOSError\u001b[39;00m(err)\n\u001b[1;32m   1325\u001b[0m \u001b[39mreturn\u001b[39;00m Image\u001b[39m.\u001b[39mImage\u001b[39m.\u001b[39mload(\u001b[39mself\u001b[39m)\n",
      "\u001b[0;31mOSError\u001b[0m: -2"
     ]
    }
   ],
   "source": [
    "image_dimensions = (224, 224)\n",
    "\n",
    "resized_images = []\n",
    "for img in images:\n",
    "    resized_img = img.resize(image_dimensions)\n",
    "    resized_images.append(resized_img)"
   ]
  }
 ],
 "metadata": {
  "kernelspec": {
   "display_name": "pill_pic",
   "language": "python",
   "name": "python3"
  },
  "language_info": {
   "codemirror_mode": {
    "name": "ipython",
    "version": 3
   },
   "file_extension": ".py",
   "mimetype": "text/x-python",
   "name": "python",
   "nbconvert_exporter": "python",
   "pygments_lexer": "ipython3",
   "version": "3.10.6"
  },
  "orig_nbformat": 4
 },
 "nbformat": 4,
 "nbformat_minor": 2
}
