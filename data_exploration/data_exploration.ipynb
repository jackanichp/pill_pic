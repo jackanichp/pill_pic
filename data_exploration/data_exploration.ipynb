{
 "cells": [
  {
   "cell_type": "code",
   "execution_count": 1,
   "metadata": {},
   "outputs": [],
   "source": [
    "# basic imports\n",
    "import pandas as pd\n",
    "import numpy as np\n",
    "import matplotlib.pyplot as plt\n",
    "import os\n",
    "\n",
    "# image manipulation\n",
    "from PIL import Image\n",
    "\n",
    "# sklearn\n",
    "from sklearn.preprocessing import OrdinalEncoder\n",
    "from sklearn.model_selection import train_test_split\n",
    "\n",
    "#tensorflow\n",
    "from tensorflow.keras import layers, models\n",
    "from tensorflow.keras.callbacks import EarlyStopping\n",
    "from tensorflow.keras.utils import to_categorical\n"
   ]
  },
  {
   "cell_type": "code",
   "execution_count": 2,
   "metadata": {},
   "outputs": [
    {
     "name": "stdout",
     "output_type": "stream",
     "text": [
      "✅ Resized 627 images in total!\n"
     ]
    }
   ],
   "source": [
    "image_dir = os.path.join(os.path.expanduser('~'), 'Downloads', 'images')\n",
    "target_size = (224, 224)\n",
    "resized_images = []\n",
    "image_names = []\n",
    "\n",
    "for filename in os.listdir(image_dir):\n",
    "    if filename.endswith('.jpg') or filename.endswith('.png'):\n",
    "        file_path = os.path.join(image_dir, filename)\n",
    "        image = Image.open(file_path)\n",
    "    \n",
    "        rgb_image = image.convert('RGB') # converts image to RGB (jpg -> RGB, png -> RGBA)\n",
    "        resized_image = rgb_image.resize(target_size)\n",
    "        \n",
    "        resized_images.append(resized_image) #records resized images\n",
    "        image_names.append(filename[:-4]) #records names of resized images\n",
    "        \n",
    "print(f'✅ Resized {len(resized_images)} images in total!')"
   ]
  },
  {
   "cell_type": "code",
   "execution_count": 3,
   "metadata": {},
   "outputs": [
    {
     "data": {
      "text/plain": [
       "(627, 224, 224, 3)"
      ]
     },
     "execution_count": 3,
     "metadata": {},
     "output_type": "execute_result"
    }
   ],
   "source": [
    "images_arr = []\n",
    "for image in resized_images:\n",
    "    images_arr.append(np.array(image))\n",
    "    \n",
    "images_arr = np.array(images_arr)\n",
    "images_arr.shape"
   ]
  },
  {
   "cell_type": "code",
   "execution_count": 4,
   "metadata": {},
   "outputs": [
    {
     "data": {
      "text/html": [
       "<div>\n",
       "<style scoped>\n",
       "    .dataframe tbody tr th:only-of-type {\n",
       "        vertical-align: middle;\n",
       "    }\n",
       "\n",
       "    .dataframe tbody tr th {\n",
       "        vertical-align: top;\n",
       "    }\n",
       "\n",
       "    .dataframe thead th {\n",
       "        text-align: right;\n",
       "    }\n",
       "</style>\n",
       "<table border=\"1\" class=\"dataframe\">\n",
       "  <thead>\n",
       "    <tr style=\"text-align: right;\">\n",
       "      <th></th>\n",
       "      <th>NDC11</th>\n",
       "      <th>Part</th>\n",
       "      <th>Image</th>\n",
       "      <th>Layout</th>\n",
       "      <th>Name</th>\n",
       "    </tr>\n",
       "  </thead>\n",
       "  <tbody>\n",
       "    <tr>\n",
       "      <th>118421</th>\n",
       "      <td>63459070160</td>\n",
       "      <td>1</td>\n",
       "      <td>PillProjectDisc90/images/I8IP8T6CW_VUGZZYPH30_...</td>\n",
       "      <td>MC_COOKED_CALIBRATED_V1.2</td>\n",
       "      <td>amrix</td>\n",
       "    </tr>\n",
       "    <tr>\n",
       "      <th>118422</th>\n",
       "      <td>63459070160</td>\n",
       "      <td>1</td>\n",
       "      <td>PillProjectDisc97/images/ODUQGLEEXJEAR-FL18J81...</td>\n",
       "      <td>MC_COOKED_CALIBRATED_V1.2</td>\n",
       "      <td>AMRIX CAP 30MG</td>\n",
       "    </tr>\n",
       "    <tr>\n",
       "      <th>118423</th>\n",
       "      <td>63459070160</td>\n",
       "      <td>1</td>\n",
       "      <td>PillProjectDisc109/images/ZM0EPASCAX7UJM82D8KD...</td>\n",
       "      <td>MC_SPL_SPLIMAGE_V3.0</td>\n",
       "      <td>amrix</td>\n",
       "    </tr>\n",
       "  </tbody>\n",
       "</table>\n",
       "</div>"
      ],
      "text/plain": [
       "              NDC11  Part                                              Image   \n",
       "118421  63459070160     1  PillProjectDisc90/images/I8IP8T6CW_VUGZZYPH30_...  \\\n",
       "118422  63459070160     1  PillProjectDisc97/images/ODUQGLEEXJEAR-FL18J81...   \n",
       "118423  63459070160     1  PillProjectDisc109/images/ZM0EPASCAX7UJM82D8KD...   \n",
       "\n",
       "                           Layout            Name  \n",
       "118421  MC_COOKED_CALIBRATED_V1.2           amrix  \n",
       "118422  MC_COOKED_CALIBRATED_V1.2  AMRIX CAP 30MG  \n",
       "118423       MC_SPL_SPLIMAGE_V3.0           amrix  "
      ]
     },
     "execution_count": 4,
     "metadata": {},
     "output_type": "execute_result"
    }
   ],
   "source": [
    "file_path = os.path.join(os.path.expanduser('~'), 'code', 'jackanichp', 'pill_pic', 'data_collection', 'directory_consumer_grade_images.xlsx')\n",
    "data = pd.read_excel(file_path)\n",
    "\n",
    "#Create a dataframe using only the images that were downloaded and resized\n",
    "image_names = [int(name) for name in image_names] #convert image names to int\n",
    "index_exists = data.index.isin(image_names) #create a boolean index of the image names that exist in the dataframe\n",
    "data = data.loc[index_exists] #create a new dataframe with only the images that have been resized\n",
    "data.tail(3)"
   ]
  },
  {
   "cell_type": "code",
   "execution_count": 5,
   "metadata": {},
   "outputs": [
    {
     "data": {
      "text/plain": [
       "Name\n",
       "NORTEL 7/7/7          130\n",
       "TRI-LEGEST Fe         130\n",
       "TRIVORA TAB           124\n",
       "AMARYL 4MG TABLETS    113\n",
       "AMRIX CAP 30MG         98\n",
       "amrix                  32\n",
       "Name: count, dtype: int64"
      ]
     },
     "execution_count": 5,
     "metadata": {},
     "output_type": "execute_result"
    }
   ],
   "source": [
    "# how many images are there for each pill?\n",
    "data['Name'].value_counts()"
   ]
  },
  {
   "cell_type": "code",
   "execution_count": 6,
   "metadata": {},
   "outputs": [
    {
     "data": {
      "text/plain": [
       "[array([   39022310,   555901258,   555903270, 52544029128, 63459070160])]"
      ]
     },
     "execution_count": 6,
     "metadata": {},
     "output_type": "execute_result"
    }
   ],
   "source": [
    "encoder = OrdinalEncoder() # Instanciate One hot encoder\n",
    "encoder.fit(data[['NDC11']])\n",
    "encoder.categories_"
   ]
  },
  {
   "cell_type": "code",
   "execution_count": 7,
   "metadata": {},
   "outputs": [
    {
     "data": {
      "text/plain": [
       "encoded_NDC11\n",
       "1.0    130\n",
       "2.0    130\n",
       "4.0    130\n",
       "3.0    124\n",
       "0.0    113\n",
       "Name: count, dtype: int64"
      ]
     },
     "execution_count": 7,
     "metadata": {},
     "output_type": "execute_result"
    }
   ],
   "source": [
    "data['encoded_NDC11'] = encoder.fit_transform(data[['NDC11']])\n",
    "data['encoded_NDC11'].value_counts()"
   ]
  },
  {
   "cell_type": "code",
   "execution_count": 8,
   "metadata": {},
   "outputs": [
    {
     "data": {
      "text/html": [
       "<div>\n",
       "<style scoped>\n",
       "    .dataframe tbody tr th:only-of-type {\n",
       "        vertical-align: middle;\n",
       "    }\n",
       "\n",
       "    .dataframe tbody tr th {\n",
       "        vertical-align: top;\n",
       "    }\n",
       "\n",
       "    .dataframe thead th {\n",
       "        text-align: right;\n",
       "    }\n",
       "</style>\n",
       "<table border=\"1\" class=\"dataframe\">\n",
       "  <thead>\n",
       "    <tr style=\"text-align: right;\">\n",
       "      <th></th>\n",
       "      <th>NDC11</th>\n",
       "      <th>Part</th>\n",
       "      <th>Image</th>\n",
       "      <th>Layout</th>\n",
       "      <th>Name</th>\n",
       "      <th>encoded_NDC11</th>\n",
       "    </tr>\n",
       "  </thead>\n",
       "  <tbody>\n",
       "    <tr>\n",
       "      <th>4012</th>\n",
       "      <td>39022310</td>\n",
       "      <td>1</td>\n",
       "      <td>PillProjectDisc101/images/SJXCIJRES6KNA9ZDT_-K...</td>\n",
       "      <td>C3PI_Test</td>\n",
       "      <td>AMARYL 4MG TABLETS</td>\n",
       "      <td>0.0</td>\n",
       "    </tr>\n",
       "    <tr>\n",
       "      <th>4013</th>\n",
       "      <td>39022310</td>\n",
       "      <td>1</td>\n",
       "      <td>PillProjectDisc102/images/SP-OD1GXRZLA6IWII1_V...</td>\n",
       "      <td>C3PI_Test</td>\n",
       "      <td>AMARYL 4MG TABLETS</td>\n",
       "      <td>0.0</td>\n",
       "    </tr>\n",
       "    <tr>\n",
       "      <th>4014</th>\n",
       "      <td>39022310</td>\n",
       "      <td>1</td>\n",
       "      <td>PillProjectDisc102/images/SWD_C6IFGYEK2T_XKO!M...</td>\n",
       "      <td>C3PI_Test</td>\n",
       "      <td>AMARYL 4MG TABLETS</td>\n",
       "      <td>0.0</td>\n",
       "    </tr>\n",
       "    <tr>\n",
       "      <th>4015</th>\n",
       "      <td>39022310</td>\n",
       "      <td>1</td>\n",
       "      <td>PillProjectDisc102/images/TE_HLK5O_X36EBW96ERB...</td>\n",
       "      <td>C3PI_Test</td>\n",
       "      <td>AMARYL 4MG TABLETS</td>\n",
       "      <td>0.0</td>\n",
       "    </tr>\n",
       "    <tr>\n",
       "      <th>4016</th>\n",
       "      <td>39022310</td>\n",
       "      <td>1</td>\n",
       "      <td>PillProjectDisc103/images/TM4CBGZP30QTP885E2!1...</td>\n",
       "      <td>C3PI_Test</td>\n",
       "      <td>AMARYL 4MG TABLETS</td>\n",
       "      <td>0.0</td>\n",
       "    </tr>\n",
       "    <tr>\n",
       "      <th>...</th>\n",
       "      <td>...</td>\n",
       "      <td>...</td>\n",
       "      <td>...</td>\n",
       "      <td>...</td>\n",
       "      <td>...</td>\n",
       "      <td>...</td>\n",
       "    </tr>\n",
       "    <tr>\n",
       "      <th>118419</th>\n",
       "      <td>63459070160</td>\n",
       "      <td>1</td>\n",
       "      <td>PillProjectDisc49/images/BVSJUMXA_2YYIA9FWAZP2...</td>\n",
       "      <td>MC_COOKED_CALIBRATED_V1.2</td>\n",
       "      <td>amrix</td>\n",
       "      <td>4.0</td>\n",
       "    </tr>\n",
       "    <tr>\n",
       "      <th>118420</th>\n",
       "      <td>63459070160</td>\n",
       "      <td>1</td>\n",
       "      <td>PillProjectDisc57/images/CA4VW8H6_G6B36O_99TJW...</td>\n",
       "      <td>MC_COOKED_CALIBRATED_V1.2</td>\n",
       "      <td>AMRIX CAP 30MG</td>\n",
       "      <td>4.0</td>\n",
       "    </tr>\n",
       "    <tr>\n",
       "      <th>118421</th>\n",
       "      <td>63459070160</td>\n",
       "      <td>1</td>\n",
       "      <td>PillProjectDisc90/images/I8IP8T6CW_VUGZZYPH30_...</td>\n",
       "      <td>MC_COOKED_CALIBRATED_V1.2</td>\n",
       "      <td>amrix</td>\n",
       "      <td>4.0</td>\n",
       "    </tr>\n",
       "    <tr>\n",
       "      <th>118422</th>\n",
       "      <td>63459070160</td>\n",
       "      <td>1</td>\n",
       "      <td>PillProjectDisc97/images/ODUQGLEEXJEAR-FL18J81...</td>\n",
       "      <td>MC_COOKED_CALIBRATED_V1.2</td>\n",
       "      <td>AMRIX CAP 30MG</td>\n",
       "      <td>4.0</td>\n",
       "    </tr>\n",
       "    <tr>\n",
       "      <th>118423</th>\n",
       "      <td>63459070160</td>\n",
       "      <td>1</td>\n",
       "      <td>PillProjectDisc109/images/ZM0EPASCAX7UJM82D8KD...</td>\n",
       "      <td>MC_SPL_SPLIMAGE_V3.0</td>\n",
       "      <td>amrix</td>\n",
       "      <td>4.0</td>\n",
       "    </tr>\n",
       "  </tbody>\n",
       "</table>\n",
       "<p>627 rows × 6 columns</p>\n",
       "</div>"
      ],
      "text/plain": [
       "              NDC11  Part                                              Image   \n",
       "4012       39022310     1  PillProjectDisc101/images/SJXCIJRES6KNA9ZDT_-K...  \\\n",
       "4013       39022310     1  PillProjectDisc102/images/SP-OD1GXRZLA6IWII1_V...   \n",
       "4014       39022310     1  PillProjectDisc102/images/SWD_C6IFGYEK2T_XKO!M...   \n",
       "4015       39022310     1  PillProjectDisc102/images/TE_HLK5O_X36EBW96ERB...   \n",
       "4016       39022310     1  PillProjectDisc103/images/TM4CBGZP30QTP885E2!1...   \n",
       "...             ...   ...                                                ...   \n",
       "118419  63459070160     1  PillProjectDisc49/images/BVSJUMXA_2YYIA9FWAZP2...   \n",
       "118420  63459070160     1  PillProjectDisc57/images/CA4VW8H6_G6B36O_99TJW...   \n",
       "118421  63459070160     1  PillProjectDisc90/images/I8IP8T6CW_VUGZZYPH30_...   \n",
       "118422  63459070160     1  PillProjectDisc97/images/ODUQGLEEXJEAR-FL18J81...   \n",
       "118423  63459070160     1  PillProjectDisc109/images/ZM0EPASCAX7UJM82D8KD...   \n",
       "\n",
       "                           Layout                Name  encoded_NDC11  \n",
       "4012                    C3PI_Test  AMARYL 4MG TABLETS            0.0  \n",
       "4013                    C3PI_Test  AMARYL 4MG TABLETS            0.0  \n",
       "4014                    C3PI_Test  AMARYL 4MG TABLETS            0.0  \n",
       "4015                    C3PI_Test  AMARYL 4MG TABLETS            0.0  \n",
       "4016                    C3PI_Test  AMARYL 4MG TABLETS            0.0  \n",
       "...                           ...                 ...            ...  \n",
       "118419  MC_COOKED_CALIBRATED_V1.2               amrix            4.0  \n",
       "118420  MC_COOKED_CALIBRATED_V1.2      AMRIX CAP 30MG            4.0  \n",
       "118421  MC_COOKED_CALIBRATED_V1.2               amrix            4.0  \n",
       "118422  MC_COOKED_CALIBRATED_V1.2      AMRIX CAP 30MG            4.0  \n",
       "118423       MC_SPL_SPLIMAGE_V3.0               amrix            4.0  \n",
       "\n",
       "[627 rows x 6 columns]"
      ]
     },
     "execution_count": 8,
     "metadata": {},
     "output_type": "execute_result"
    }
   ],
   "source": [
    "data"
   ]
  },
  {
   "cell_type": "code",
   "execution_count": 9,
   "metadata": {},
   "outputs": [],
   "source": [
    "# Normalization of pixel values to be between 0 and 1\n",
    "images_arr = images_arr / 255.0"
   ]
  },
  {
   "cell_type": "code",
   "execution_count": 10,
   "metadata": {},
   "outputs": [
    {
     "data": {
      "text/plain": [
       "(627, 224, 224, 3)"
      ]
     },
     "execution_count": 10,
     "metadata": {},
     "output_type": "execute_result"
    }
   ],
   "source": [
    "images_arr.shape"
   ]
  },
  {
   "cell_type": "code",
   "execution_count": 11,
   "metadata": {},
   "outputs": [
    {
     "name": "stdout",
     "output_type": "stream",
     "text": [
      "X_train shape: (306, 224, 224, 3), y_train shape: (306,)\n",
      "X_val shape: (132, 224, 224, 3), y_val shape: (132,)\n",
      "X_test shape: (189, 224, 224, 3), y_test shape: (189,)\n"
     ]
    }
   ],
   "source": [
    "X_train, X_test, y_train, y_test = train_test_split(images_arr, data['encoded_NDC11'], test_size=0.3)\n",
    "X_train, X_val, y_train, y_val = train_test_split(X_train, y_train, test_size=0.3) \n",
    "\n",
    "print(f'X_train shape: {X_train.shape}, y_train shape: {y_train.shape}\\nX_val shape: {X_val.shape}, y_val shape: {y_val.shape}\\nX_test shape: {X_test.shape}, y_test shape: {y_test.shape}')"
   ]
  },
  {
   "cell_type": "code",
   "execution_count": 12,
   "metadata": {},
   "outputs": [],
   "source": [
    "y_train = to_categorical(y_train.values)\n",
    "y_val = to_categorical(y_val.values)\n",
    "y_test = to_categorical(y_test.values)"
   ]
  },
  {
   "cell_type": "code",
   "execution_count": 31,
   "metadata": {},
   "outputs": [],
   "source": [
    "baseline_model = 0.2"
   ]
  }
 ],
 "metadata": {
  "kernelspec": {
   "display_name": "pill_pic",
   "language": "python",
   "name": "python3"
  },
  "language_info": {
   "codemirror_mode": {
    "name": "ipython",
    "version": 3
   },
   "file_extension": ".py",
   "mimetype": "text/x-python",
   "name": "python",
   "nbconvert_exporter": "python",
   "pygments_lexer": "ipython3",
   "version": "3.10.6"
  },
  "orig_nbformat": 4
 },
 "nbformat": 4,
 "nbformat_minor": 2
}
