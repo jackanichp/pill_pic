{
 "cells": [
  {
   "cell_type": "code",
   "execution_count": 1,
   "metadata": {},
   "outputs": [],
   "source": [
    "import pandas as pd"
   ]
  },
  {
   "cell_type": "code",
   "execution_count": null,
   "metadata": {},
   "outputs": [],
   "source": [
    "#Read Pillbox_retired\n",
    "pillbox_df = pd.read_csv(\"data/Pillbox_retired.csv\")"
   ]
  },
  {
   "cell_type": "code",
   "execution_count": 23,
   "metadata": {},
   "outputs": [],
   "source": [
    "# Pad NDC9 values in Pillbox_retired so len = 9\n",
    "pillbox_df['ndc9'] = pillbox_df['ndc9'].str.zfill(9)"
   ]
  },
  {
   "cell_type": "code",
   "execution_count": 8,
   "metadata": {},
   "outputs": [],
   "source": [
    "#Convert dtype for \"NDC9\" from \"O\" to str\n",
    "pillbox_df['ndc9'] = pillbox_df['ndc9'].astype(str)"
   ]
  },
  {
   "cell_type": "code",
   "execution_count": 4,
   "metadata": {},
   "outputs": [],
   "source": [
    "# Convert directory_consumer_grade_images and save as .csv\n",
    "directory_df = pd.read_excel('data/directory_consumer_grade_images.xlsx')\n",
    "directory_df.to_csv('data/directory_consumer_grade_images.csv', index=False)"
   ]
  },
  {
   "cell_type": "code",
   "execution_count": null,
   "metadata": {},
   "outputs": [],
   "source": [
    "# Create the new column \"NDC9\" by stripping last 2 #s in \"NDC11\"\n",
    "directory_df['NDC11'] = directory_df['NDC11'].astype(str)\n",
    "directory_df['NDC9'] = directory_df['NDC11'].str[:-2]"
   ]
  },
  {
   "cell_type": "code",
   "execution_count": null,
   "metadata": {},
   "outputs": [],
   "source": [
    "#Pad \"NDC9\" with 0s so it matches \"ndc9\" in Pillbox_retired\n",
    "directory_df['NDC9'] = directory_df['NDC9'].str.zfill(9)"
   ]
  },
  {
   "cell_type": "code",
   "execution_count": null,
   "metadata": {},
   "outputs": [],
   "source": [
    "# Creat merged_df from directory_df and pillbox_df\n",
    "merged_df = directory_df.merge(pillbox_df, left_on='NDC9', right_on='ndc9')\n",
    "merged_df.head()"
   ]
  },
  {
   "cell_type": "code",
   "execution_count": null,
   "metadata": {},
   "outputs": [],
   "source": [
    "#Remove reduntant columns \"ndc9\" and \"medicine_name\" from merged_df\n",
    "merged_df = merged_df.drop([\"ndc9\", \"medicine_name\"], axis=1)\n",
    "merged_df.head()"
   ]
  },
  {
   "cell_type": "code",
   "execution_count": 53,
   "metadata": {},
   "outputs": [],
   "source": [
    "#write merged_df to csv\n",
    "merged_df.to_csv('data/Merged_data.csv', index=False)"
   ]
  },
  {
   "cell_type": "code",
   "execution_count": null,
   "metadata": {},
   "outputs": [],
   "source": [
    "#Missing NDC9s in the merged_df (These only existed in directory_df and not pillbox_df)\n",
    "missing_ndc9_values = set(directory_df[~directory_df['NDC9'].isin(merged_df['ndc9'])]['NDC9'])\n",
    "\n",
    "for value in missing_ndc9_values:\n",
    "    print(value)"
   ]
  },
  {
   "cell_type": "code",
   "execution_count": 27,
   "metadata": {},
   "outputs": [
    {
     "data": {
      "text/plain": [
       "168"
      ]
     },
     "execution_count": 27,
     "metadata": {},
     "output_type": "execute_result"
    }
   ],
   "source": [
    "#Number of missing NDC9s in merged_df\n",
    "len(missing_ndc9_values)"
   ]
  },
  {
   "cell_type": "code",
   "execution_count": null,
   "metadata": {},
   "outputs": [],
   "source": [
    "#Does pill name exist in pillbox_df?\n",
    "pillbox_df['medicine_name'] = pillbox_df['medicine_name'].fillna('')\n",
    "filtered_data = pillbox_df[pillbox_df['medicine_name'].str.contains('Cymbalta', case=False)]\n",
    "filtered_data.head()"
   ]
  },
  {
   "cell_type": "code",
   "execution_count": null,
   "metadata": {},
   "outputs": [],
   "source": [
    "#Does pill name exist in directory_df?\n",
    "directory_df['Name'] = directory_df['Name'].fillna('')\n",
    "filtered_data = directory_df[directory_df['Name'].str.contains('Cymbalta', case=False)]\n",
    "filtered_data.head()"
   ]
  },
  {
   "cell_type": "code",
   "execution_count": 48,
   "metadata": {},
   "outputs": [
    {
     "name": "stdout",
     "output_type": "stream",
     "text": [
      "Sotalol HCL Tablets, USP (AF)\n"
     ]
    }
   ],
   "source": [
    "#Look up pill name for NDC9 in directory_df\n",
    "name_value = directory_df.loc[directory_df['NDC9'] == '651620725', 'Name'].values[0]\n",
    "print(name_value)"
   ]
  },
  {
   "cell_type": "code",
   "execution_count": 44,
   "metadata": {},
   "outputs": [
    {
     "name": "stdout",
     "output_type": "stream",
     "text": [
      "ndc9 value is present in directory_df\n"
     ]
    }
   ],
   "source": [
    "#ndc9 value is present in directory_df?\n",
    "is_present = '634590504' in directory_df['NDC9'].values\n",
    "\n",
    "# Display the result\n",
    "if is_present:\n",
    "    print(\"ndc9 value is present in directory_df\")\n",
    "else:\n",
    "    print(\"ndc9 value is not present in directory_df\")"
   ]
  },
  {
   "cell_type": "code",
   "execution_count": 45,
   "metadata": {},
   "outputs": [
    {
     "name": "stdout",
     "output_type": "stream",
     "text": [
      "ndc9 value is not present in merged_df\n"
     ]
    }
   ],
   "source": [
    "#ndc9 value is present in merged_df?\n",
    "is_present = '634590504' in merged_df['NDC9'].values\n",
    "\n",
    "# Display the result\n",
    "if is_present:\n",
    "    print(\"ndc9 value is present in merged_df\")\n",
    "else:\n",
    "    print(\"ndc9 value is not present in merged_df\")"
   ]
  },
  {
   "cell_type": "code",
   "execution_count": 46,
   "metadata": {},
   "outputs": [
    {
     "name": "stdout",
     "output_type": "stream",
     "text": [
      "ndc9 value is not present in pillbox_df\n"
     ]
    }
   ],
   "source": [
    "#ndc9 value is present in pillbox_df?\n",
    "is_present = '634590504' in pillbox_df['ndc9'].values\n",
    "\n",
    "# Display the result\n",
    "if is_present:\n",
    "    print(\"ndc9 value is present in pillbox_df\")\n",
    "else:\n",
    "    print(\"ndc9 value is not present in pillbox_df\")"
   ]
  },
  {
   "cell_type": "code",
   "execution_count": null,
   "metadata": {},
   "outputs": [],
   "source": [
    "#Find NDC9 for pill name in pillbox_df\n",
    "is_present = pillbox_df['medicine_name'].str.contains('Sotalol', case=False)\n",
    "\n",
    "# Filter the DataFrame based on the condition\n",
    "filtered_data = pillbox_df[is_present]\n",
    "\n",
    "# Display the filtered data\n",
    "filtered_data.head()"
   ]
  }
 ],
 "metadata": {
  "kernelspec": {
   "display_name": "Python 3",
   "language": "python",
   "name": "python3"
  },
  "language_info": {
   "codemirror_mode": {
    "name": "ipython",
    "version": 3
   },
   "file_extension": ".py",
   "mimetype": "text/x-python",
   "name": "python",
   "nbconvert_exporter": "python",
   "pygments_lexer": "ipython3",
   "version": "3.10.6"
  },
  "orig_nbformat": 4
 },
 "nbformat": 4,
 "nbformat_minor": 2
}
